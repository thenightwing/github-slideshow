{
  "nbformat": 4,
  "nbformat_minor": 0,
  "metadata": {
    "colab": {
      "name": "21301221_M10_Khandoker Hamidun Nabi_CSE110_Final Exam",
      "provenance": [],
      "collapsed_sections": [],
      "authorship_tag": "ABX9TyPyx2U3ShGBasopVORUTXJh",
      "include_colab_link": true
    },
    "kernelspec": {
      "name": "python3",
      "display_name": "Python 3"
    },
    "language_info": {
      "name": "python"
    }
  },
  "cells": [
    {
      "cell_type": "markdown",
      "metadata": {
        "id": "view-in-github",
        "colab_type": "text"
      },
      "source": [
        "<a href=\"https://colab.research.google.com/github/thenightwing/github-slideshow/blob/master/21301221_M10_Khandoker_Hamidun_Nabi_CSE110_Final_Exam.ipynb\" target=\"_parent\"><img src=\"https://colab.research.google.com/assets/colab-badge.svg\" alt=\"Open In Colab\"/></a>"
      ]
    },
    {
      "cell_type": "markdown",
      "metadata": {
        "id": "Ax2dvcj3HMuH"
      },
      "source": [
        "# **Question 1**"
      ]
    },
    {
      "cell_type": "code",
      "metadata": {
        "colab": {
          "base_uri": "https://localhost:8080/"
        },
        "id": "pRpJPk_EHRc2",
        "outputId": "21fb9bd8-0945-4bf6-c6e0-68daba4e9e31"
      },
      "source": [
        "x = input(\"Enter the weights of the passengers: \").split(',')\n",
        "x = [int(i) for i in x]\n",
        "seat = 0\n",
        "for i in x:\n",
        "    if i<=150 and i>100:\n",
        "        seat+=2\n",
        "    elif i<=100:\n",
        "        seat+=1\n",
        "print(seat,\"seats\")"
      ],
      "execution_count": null,
      "outputs": [
        {
          "output_type": "stream",
          "name": "stdout",
          "text": [
            "Enter the weights of the passengers: 45,67,107,151,89,121\n",
            "7 seats\n"
          ]
        }
      ]
    },
    {
      "cell_type": "markdown",
      "metadata": {
        "id": "tD6KYk7_Lalp"
      },
      "source": [
        "# **Question 2**"
      ]
    },
    {
      "cell_type": "code",
      "metadata": {
        "colab": {
          "base_uri": "https://localhost:8080/"
        },
        "id": "f1dk5fZyLhTh",
        "outputId": "8fa1c1ac-c8d9-4514-add4-c74aa5d45325"
      },
      "source": [
        "i = 1\n",
        "items = []\n",
        "cost = 0\n",
        "while True:\n",
        "    x = input(\"Please enter item \"+str(i)+': ')\n",
        "    if x == 'Complete':\n",
        "        break\n",
        "    y = int(input(\"Please enter the quantity: \"))\n",
        "    price=len(x)*y\n",
        "    items.append([x,len(x),price])\n",
        "    cost+=price\n",
        "    i+=1\n",
        "if len(items)==0:\n",
        "    print(\"Nothing in the list\")\n",
        "else:\n",
        "    print(\"The complete list is: \")\n",
        "    for item in items:\n",
        "        print(item[0],'-',item[1],'-',item[2])\n",
        "    dict = {}\n",
        "    for item in items:\n",
        "        dict[item[0]] = [item[1],item[2]]\n",
        "    print(dict)\n",
        "    print(\"Total price =\",cost)"
      ],
      "execution_count": null,
      "outputs": [
        {
          "output_type": "stream",
          "name": "stdout",
          "text": [
            "Please enter item 1: Apple\n",
            "Please enter the quantity: 3\n",
            "Please enter item 2: Orange\n",
            "Please enter the quantity: 4\n",
            "Please enter item 3: Complete\n",
            "The complete list is: \n",
            "Apple - 5 - 15\n",
            "Orange - 6 - 24\n",
            "{'Apple': [5, 15], 'Orange': [6, 24]}\n",
            "Total price = 39\n"
          ]
        }
      ]
    },
    {
      "cell_type": "markdown",
      "metadata": {
        "id": "2RFzja9aMedt"
      },
      "source": [
        "# **Question 3**"
      ]
    },
    {
      "cell_type": "code",
      "metadata": {
        "colab": {
          "base_uri": "https://localhost:8080/"
        },
        "id": "bV7MDM4VMiwS",
        "outputId": "6b928346-c6ef-4fc0-bf49-8c2ae391f27a"
      },
      "source": [
        "def printH(n):\n",
        "    mark1 = n//2\n",
        "    mark2 = mark1-1\n",
        "    for i in range(n):\n",
        "        if i==mark1:\n",
        "            print(\"*******\")\n",
        "        elif n%2==0 and i==mark2:\n",
        "            print(\"*******\")\n",
        "        else:\n",
        "            print(\"**   **\")\n",
        "x = int(input())\n",
        "printH(x)"
      ],
      "execution_count": null,
      "outputs": [
        {
          "output_type": "stream",
          "name": "stdout",
          "text": [
            "7\n",
            "**   **\n",
            "**   **\n",
            "**   **\n",
            "*******\n",
            "**   **\n",
            "**   **\n",
            "**   **\n"
          ]
        }
      ]
    }
  ]
}